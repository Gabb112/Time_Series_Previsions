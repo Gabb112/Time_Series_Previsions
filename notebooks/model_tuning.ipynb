{
 "cells": [
  {
   "cell_type": "code",
   "execution_count": 1,
   "metadata": {},
   "outputs": [
    {
     "name": "stderr",
     "output_type": "stream",
     "text": [
      "/Users/gagigetsadze/Desktop/Python programs/Time_Series_Pred/venv/lib/python3.9/site-packages/tqdm/auto.py:21: TqdmWarning: IProgress not found. Please update jupyter and ipywidgets. See https://ipywidgets.readthedocs.io/en/stable/user_install.html\n",
      "  from .autonotebook import tqdm as notebook_tqdm\n",
      "Importing plotly failed. Interactive plots will not work.\n"
     ]
    }
   ],
   "source": [
    "# --- Model Tuning Notebook ---\n",
    "import pandas as pd\n",
    "import numpy as np\n",
    "import os\n",
    "os.chdir(\"/Users/gagigetsadze/Desktop/Python programs/Time_Series_Pred\")\n",
    "from sklearn.model_selection import TimeSeriesSplit\n",
    "from sklearn.preprocessing import MinMaxScaler\n",
    "\n",
    "from features.build_features import FeatureEngineering\n",
    "from models.arima import ARIMAModel\n",
    "from models.prophet import ProphetModel\n",
    "from models.lstm import LSTMModel\n",
    "from models.xgboost_model import XGBoostModel"
   ]
  },
  {
   "cell_type": "code",
   "execution_count": null,
   "metadata": {},
   "outputs": [],
   "source": [
    "# Project Directory Setup (adjust as necessary)\n",
    "project_dir = os.getcwd()\n",
    "raw_data_dir = os.path.join(project_dir, \"data\", \"raw\", \"1023\")"
   ]
  },
  {
   "cell_type": "code",
   "execution_count": null,
   "metadata": {},
   "outputs": [],
   "source": [
    "# Load Data\n",
    "def load_data(filepath):\n",
    "    try:\n",
    "        df = pd.read_csv(filepath)\n",
    "        print(f\"Successfully loaded data from: {filepath}\")\n",
    "        return df\n",
    "    except FileNotFoundError:\n",
    "        print(f\"Error: File not found at {filepath}\")\n",
    "        return None\n",
    "    except Exception as e:\n",
    "        print(f\"An error occurred loading data: {e}\")\n",
    "        return None"
   ]
  },
  {
   "cell_type": "code",
   "execution_count": null,
   "metadata": {},
   "outputs": [],
   "source": [
    "sp500_companies_path = os.path.join(raw_data_dir, \"sp500_companies.csv\")\n",
    "sp500_index_path = os.path.join(raw_data_dir, \"sp500_index.csv\")\n",
    "sp500_stocks_path = os.path.join(raw_data_dir, \"sp500_stocks.csv\")\n",
    "\n",
    "sp500_companies_df = load_data(sp500_companies_path)\n",
    "sp500_index_df = load_data(sp500_index_path)\n",
    "sp500_stocks_df = load_data(sp500_stocks_path)\n",
    "sp500_stocks_df['Date'] = pd.to_datetime(sp500_stocks_df['Date'])"
   ]
  },
  {
   "cell_type": "code",
   "execution_count": null,
   "metadata": {},
   "outputs": [],
   "source": [
    "def preprocess_stocks_data(sp500_stocks_df):\n",
    "    if sp500_stocks_df is None:\n",
    "        return None\n",
    "    sp500_stocks_df = sp500_stocks_df.dropna(subset=[\"Adj Close\"])\n",
    "    sp500_stocks_df = sp500_stocks_df.sort_values(by=\"Date\").reset_index(drop=True)\n",
    "    return sp500_stocks_df"
   ]
  },
  {
   "cell_type": "code",
   "execution_count": null,
   "metadata": {},
   "outputs": [],
   "source": [
    "def create_and_merge_features(sp500_stocks_df, sp500_companies_df):\n",
    "    if sp500_stocks_df is None:\n",
    "        return None\n",
    "    feature_eng = FeatureEngineering()\n",
    "    lags_to_use = [1, 7, 30]\n",
    "    sp500_stocks_df = feature_eng.create_lag_features(\n",
    "        sp500_stocks_df, \"Adj Close\", lags_to_use\n",
    "    )\n",
    "    windows_to_use = [7, 30, 90]\n",
    "    sp500_stocks_df = feature_eng.create_rolling_features(\n",
    "        sp500_stocks_df, \"Adj Close\", windows_to_use\n",
    "    )\n",
    "    sp500_stocks_df = feature_eng.create_calendar_features(sp500_stocks_df, \"Date\")\n",
    "    sp500_stocks_df = feature_eng.merge_company_data(\n",
    "        sp500_stocks_df, sp500_companies_df\n",
    "    )\n",
    "    return sp500_stocks_df"
   ]
  },
  {
   "cell_type": "code",
   "execution_count": null,
   "metadata": {},
   "outputs": [],
   "source": [
    "def split_data(sp500_stocks_df):\n",
    "    if sp500_stocks_df is None:\n",
    "        return None, None, None\n",
    "    feature_eng = FeatureEngineering()\n",
    "    train_data, val_data, test_data = feature_eng.time_series_split(\n",
    "        sp500_stocks_df, \"Date\"\n",
    "    )\n",
    "    return train_data, val_data, test_data"
   ]
  },
  {
   "cell_type": "code",
   "execution_count": null,
   "metadata": {},
   "outputs": [],
   "source": [
    "sp500_stocks_df = preprocess_stocks_data(sp500_stocks_df)\n",
    "sp500_stocks_df = create_and_merge_features(sp500_stocks_df, sp500_companies_df)\n",
    "train_data, val_data, test_data = split_data(sp500_stocks_df)"
   ]
  },
  {
   "cell_type": "code",
   "execution_count": null,
   "metadata": {},
   "outputs": [],
   "source": [
    "# 1. ARIMA Hyperparameter Tuning\n",
    "# Example: Grid search for p, d, q\n",
    "if train_data is not None:\n",
    "    # You'll need to add your code here to use TimeSeriesSplit\n",
    "    #  and a grid search to find the best parameters for the ARIMA model.\n",
    "    pass\n",
    "\n",
    "\n",
    "# 2. Prophet Hyperparameter Tuning\n",
    "if train_data is not None:\n",
    "    #  Add your code here to tune the prophet model\n",
    "    pass\n",
    "\n",
    "\n",
    "# 3. LSTM Hyperparameter Tuning\n",
    "if train_data is not None:\n",
    "    # Add code to search for the best num_layers, hidden_size, learning_rate, batch_size\n",
    "    pass\n",
    "\n",
    "# 4. XGBoost Hyperparameter Tuning\n",
    "if train_data is not None:\n",
    "    #  Add code to search for best params for XGBoost model\n",
    "    pass"
   ]
  }
 ],
 "metadata": {
  "kernelspec": {
   "display_name": "venv",
   "language": "python",
   "name": "python3"
  },
  "language_info": {
   "codemirror_mode": {
    "name": "ipython",
    "version": 3
   },
   "file_extension": ".py",
   "mimetype": "text/x-python",
   "name": "python",
   "nbconvert_exporter": "python",
   "pygments_lexer": "ipython3",
   "version": "3.9.6"
  },
  "orig_nbformat": 4,
  "vscode": {
   "interpreter": {
    "hash": "8f9e42c9691f8fec9a9bc08c7e23b35930eb26ad2af69833e566a8b563b2c498"
   }
  }
 },
 "nbformat": 4,
 "nbformat_minor": 2
}
